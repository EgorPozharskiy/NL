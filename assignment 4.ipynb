{
  "cells": [
    {
      "cell_type": "markdown",
      "metadata": {
        "id": "qSyXm5zqj38Z"
      },
      "source": [
        "# Лабораторная работа 4"
      ]
    },
    {
      "cell_type": "markdown",
      "metadata": {
        "id": "Bl47_wE_j38Z"
      },
      "source": [
        "Tensorflow 2.x\n",
        "\n",
        "1) Подготовка данных\n",
        "\n",
        "2) Использование Keras Model API\n",
        "\n",
        "3) Использование Keras Sequential + Functional API"
      ]
    },
    {
      "cell_type": "markdown",
      "metadata": {
        "id": "bJDBNinFj38a"
      },
      "source": [
        "https://www.tensorflow.org/tutorials"
      ]
    },
    {
      "cell_type": "markdown",
      "metadata": {
        "id": "_5UXcJzTj38a"
      },
      "source": [
        "Для выполнения лабораторной работы необходимо установить tensorflow версии 2.0 или выше .\n",
        "\n",
        "Рекомендуется использовать возможности Colab'а по обучению моделей на GPU.\n",
        "\n"
      ]
    },
    {
      "cell_type": "code",
      "execution_count": 1,
      "metadata": {
        "id": "nbnSAagYj38a"
      },
      "outputs": [
        {
          "name": "stderr",
          "output_type": "stream",
          "text": [
            "2024-05-02 23:20:20.914401: I tensorflow/core/platform/cpu_feature_guard.cc:210] This TensorFlow binary is optimized to use available CPU instructions in performance-critical operations.\n",
            "To enable the following instructions: AVX2 FMA, in other operations, rebuild TensorFlow with the appropriate compiler flags.\n"
          ]
        },
        {
          "name": "stderr",
          "output_type": "stream",
          "text": [
            "2024-05-02 23:20:21.519836: W tensorflow/compiler/tf2tensorrt/utils/py_utils.cc:38] TF-TRT Warning: Could not find TensorRT\n",
            "/usr/lib/python3/dist-packages/requests/__init__.py:87: RequestsDependencyWarning: urllib3 (2.2.1) or chardet (4.0.0) doesn't match a supported version!\n",
            "  warnings.warn(\"urllib3 ({}) or chardet ({}) doesn't match a supported \"\n"
          ]
        }
      ],
      "source": [
        "import tensorflow as tf\n",
        "import numpy as np\n",
        "import matplotlib.pyplot as plt\n",
        "from scripts.data_utils import load_CIFAR10\n",
        "from sklearn.metrics import confusion_matrix, accuracy_score, precision_score, recall_score, f1_score, classification_report\n",
        "from sklearn.model_selection import train_test_split, StratifiedKFold\n",
        "from scipy.stats import mode\n",
        "\n",
        "\n",
        "%matplotlib inline"
      ]
    },
    {
      "cell_type": "markdown",
      "metadata": {
        "id": "H0zGXUKBj38a"
      },
      "source": [
        "# Подготовка данных\n",
        "Загрузите набор данных из предыдущей лабораторной работы."
      ]
    },
    {
      "cell_type": "code",
      "execution_count": 2,
      "metadata": {
        "colab": {
          "base_uri": "https://localhost:8080/"
        },
        "id": "WPqGMKb4j38b",
        "outputId": "3e9770b1-a498-41d4-9eaf-f160711c8921"
      },
      "outputs": [
        {
          "name": "stdout",
          "output_type": "stream",
          "text": [
            "Train data shape:  (49000, 32, 32, 3)\n",
            "Train labels shape:  (49000,) int32\n",
            "Validation data shape:  (1000, 32, 32, 3)\n",
            "Validation labels shape:  (1000,)\n",
            "Test data shape:  (10000, 32, 32, 3)\n",
            "Test labels shape:  (10000,)\n"
          ]
        }
      ],
      "source": [
        "def load_cifar10(num_training=49000, num_validation=1000, num_test=10000):\n",
        "    \"\"\"\n",
        "    Fetch the CIFAR-10 dataset from the web and perform preprocessing to prepare\n",
        "    it for the two-layer neural net classifier. These are the same steps as\n",
        "    we used for the SVM, but condensed to a single function.\n",
        "    \"\"\"\n",
        "    # Load the raw CIFAR-10 dataset and use appropriate data types and shapes\n",
        "    cifar10 = tf.keras.datasets.cifar10.load_data()\n",
        "    (X_train, y_train), (X_test, y_test) = cifar10\n",
        "    X_train = np.asarray(X_train, dtype=np.float32)\n",
        "    y_train = np.asarray(y_train, dtype=np.int32).flatten()\n",
        "    X_test = np.asarray(X_test, dtype=np.float32)\n",
        "    y_test = np.asarray(y_test, dtype=np.int32).flatten()\n",
        "\n",
        "    # Subsample the data\n",
        "    mask = range(num_training, num_training + num_validation)\n",
        "    X_val = X_train[mask]\n",
        "    y_val = y_train[mask]\n",
        "    mask = range(num_training)\n",
        "    X_train = X_train[mask]\n",
        "    y_train = y_train[mask]\n",
        "    mask = range(num_test)\n",
        "    X_test = X_test[mask]\n",
        "    y_test = y_test[mask]\n",
        "\n",
        "    # Normalize the data: subtract the mean pixel and divide by std\n",
        "    mean_pixel = X_train.mean(axis=(0, 1, 2), keepdims=True)\n",
        "    std_pixel = X_train.std(axis=(0, 1, 2), keepdims=True)\n",
        "    X_train = (X_train - mean_pixel) / std_pixel\n",
        "    X_val = (X_val - mean_pixel) / std_pixel\n",
        "    X_test = (X_test - mean_pixel) / std_pixel\n",
        "\n",
        "    return X_train, y_train, X_val, y_val, X_test, y_test\n",
        "\n",
        "# If there are errors with SSL downloading involving self-signed certificates,\n",
        "# it may be that your Python version was recently installed on the current machine.\n",
        "# See: https://github.com/tensorflow/tensorflow/issues/10779\n",
        "# To fix, run the command: /Applications/Python\\ 3.7/Install\\ Certificates.command\n",
        "#   ...replacing paths as necessary.\n",
        "\n",
        "# Invoke the above function to get our data.\n",
        "NHW = (0, 1, 2)\n",
        "X_train, y_train, X_val, y_val, X_test, y_test = load_cifar10()\n",
        "print('Train data shape: ', X_train.shape)\n",
        "print('Train labels shape: ', y_train.shape, y_train.dtype)\n",
        "print('Validation data shape: ', X_val.shape)\n",
        "print('Validation labels shape: ', y_val.shape)\n",
        "print('Test data shape: ', X_test.shape)\n",
        "print('Test labels shape: ', y_test.shape)"
      ]
    },
    {
      "cell_type": "code",
      "execution_count": 3,
      "metadata": {
        "id": "AIKV9rJBj38b"
      },
      "outputs": [],
      "source": [
        "class Dataset(object):\n",
        "    def __init__(self, X, y, batch_size, shuffle=False):\n",
        "        \"\"\"\n",
        "        Construct a Dataset object to iterate over data X and labels y\n",
        "\n",
        "        Inputs:\n",
        "        - X: Numpy array of data, of any shape\n",
        "        - y: Numpy array of labels, of any shape but with y.shape[0] == X.shape[0]\n",
        "        - batch_size: Integer giving number of elements per minibatch\n",
        "        - shuffle: (optional) Boolean, whether to shuffle the data on each epoch\n",
        "        \"\"\"\n",
        "        assert X.shape[0] == y.shape[0], 'Got different numbers of data and labels'\n",
        "        self.X, self.y = X, y\n",
        "        self.batch_size, self.shuffle = batch_size, shuffle\n",
        "\n",
        "    def __iter__(self):\n",
        "        N, B = self.X.shape[0], self.batch_size\n",
        "        idxs = np.arange(N)\n",
        "        if self.shuffle:\n",
        "            np.random.shuffle(idxs)\n",
        "        return iter((self.X[i:i+B], self.y[i:i+B]) for i in range(0, N, B))\n",
        "\n",
        "\n",
        "train_dset = Dataset(X_train, y_train, batch_size=64, shuffle=True)\n",
        "val_dset = Dataset(X_val, y_val, batch_size=64, shuffle=False)\n",
        "test_dset = Dataset(X_test, y_test, batch_size=64)"
      ]
    },
    {
      "cell_type": "code",
      "execution_count": 4,
      "metadata": {
        "colab": {
          "base_uri": "https://localhost:8080/"
        },
        "id": "1X8DtTr5j38b",
        "outputId": "6e51b5f3-b606-4b83-cc31-bc8035dec689"
      },
      "outputs": [
        {
          "name": "stdout",
          "output_type": "stream",
          "text": [
            "0 (64, 32, 32, 3) (64,)\n",
            "1 (64, 32, 32, 3) (64,)\n",
            "2 (64, 32, 32, 3) (64,)\n",
            "3 (64, 32, 32, 3) (64,)\n",
            "4 (64, 32, 32, 3) (64,)\n",
            "5 (64, 32, 32, 3) (64,)\n",
            "6 (64, 32, 32, 3) (64,)\n"
          ]
        }
      ],
      "source": [
        "# We can iterate through a dataset like this:\n",
        "for t, (x, y) in enumerate(train_dset):\n",
        "    print(t, x.shape, y.shape)\n",
        "    if t > 5: break"
      ]
    },
    {
      "cell_type": "code",
      "execution_count": 5,
      "metadata": {
        "colab": {
          "base_uri": "https://localhost:8080/"
        },
        "id": "UkuGJGYLj38b",
        "outputId": "1f6dfef7-59d2-410c-b3f8-4d2d24db5b2f"
      },
      "outputs": [
        {
          "data": {
            "text/plain": [
              "(49000, 32, 32, 3)"
            ]
          },
          "execution_count": 5,
          "metadata": {},
          "output_type": "execute_result"
        }
      ],
      "source": [
        "train_dset.X.shape"
      ]
    },
    {
      "cell_type": "markdown",
      "metadata": {
        "id": "VpWvmEtbj38c"
      },
      "source": []
    },
    {
      "cell_type": "markdown",
      "metadata": {
        "id": "PxXSbh2Cj38c"
      },
      "source": [
        "\n"
      ]
    },
    {
      "cell_type": "markdown",
      "metadata": {
        "id": "czVfsgI0j38c"
      },
      "source": [
        "#  Keras Model Subclassing API"
      ]
    },
    {
      "cell_type": "markdown",
      "metadata": {
        "id": "lgNm4ZPaj38c"
      },
      "source": [
        "\n",
        "Для реализации собственной модели с помощью Keras Model Subclassing API необходимо выполнить следующие шаги:\n",
        "\n",
        "1) Определить новый класс, который является наследником tf.keras.Model.\n",
        "\n",
        "2) В методе __init__() определить все необходимые слои из модуля tf.keras.layer\n",
        "\n",
        "3) Реализовать прямой проход в методе call() на основе слоев, объявленных в __init__()\n",
        "\n",
        "Ниже приведен пример использования keras API для определения двухслойной полносвязной сети.\n",
        "\n",
        "https://www.tensorflow.org/versions/r2.0/api_docs/python/tf/keras"
      ]
    },
    {
      "cell_type": "code",
      "execution_count": 6,
      "metadata": {
        "colab": {
          "base_uri": "https://localhost:8080/"
        },
        "id": "L97aD01Vj38c",
        "outputId": "29558e35-63bb-4645-b195-fbd82c70caed"
      },
      "outputs": [
        {
          "name": "stdout",
          "output_type": "stream",
          "text": [
            "Using device:  /device:GPU:0\n"
          ]
        }
      ],
      "source": [
        "# Set up some global variables\n",
        "USE_GPU = True  \n",
        "\n",
        "if USE_GPU:\n",
        "    device = '/device:GPU:0'  \n",
        "else:\n",
        "    device = '/cpu:0' \n",
        "\n",
        "# Constant to control how often we print when training models\n",
        "print_every = 100 \n",
        "\n",
        "\n",
        "print('Using device: ', device)\n"
      ]
    },
    {
      "cell_type": "code",
      "execution_count": 7,
      "metadata": {
        "colab": {
          "base_uri": "https://localhost:8080/"
        },
        "id": "Tc7M-hDRj38c",
        "outputId": "287be374-c326-43cc-dcdf-ced3b25afed8"
      },
      "outputs": [
        {
          "name": "stdout",
          "output_type": "stream",
          "text": [
            "(64, 10)\n"
          ]
        },
        {
          "name": "stderr",
          "output_type": "stream",
          "text": [
            "2024-05-02 23:20:24.205932: I external/local_xla/xla/stream_executor/cuda/cuda_executor.cc:998] successful NUMA node read from SysFS had negative value (-1), but there must be at least one NUMA node, so returning NUMA node zero. See more at https://github.com/torvalds/linux/blob/v6.0/Documentation/ABI/testing/sysfs-bus-pci#L344-L355\n",
            "2024-05-02 23:20:24.206723: W tensorflow/core/common_runtime/gpu/gpu_device.cc:2251] Cannot dlopen some GPU libraries. Please make sure the missing libraries mentioned above are installed properly if you would like to use GPU. Follow the guide at https://www.tensorflow.org/install/gpu for how to download and setup the required libraries for your platform.\n",
            "Skipping registering GPU devices...\n"
          ]
        }
      ],
      "source": [
        "class TwoLayerFC(tf.keras.Model):\n",
        "    def __init__(self, hidden_size, num_classes):\n",
        "        super(TwoLayerFC, self).__init__()\n",
        "        initializer = tf.initializers.VarianceScaling(scale=2.0, seed=42)\n",
        "        self.fc1 = tf.keras.layers.Dense(hidden_size, activation='relu',\n",
        "                                   kernel_initializer=initializer)\n",
        "        self.fc2 = tf.keras.layers.Dense(num_classes, activation='softmax',\n",
        "                                   kernel_initializer=initializer)\n",
        "        self.flatten = tf.keras.layers.Flatten()\n",
        "\n",
        "    def call(self, x, training=False):\n",
        "        x = self.flatten(x)\n",
        "        x = self.fc1(x)\n",
        "        x = self.fc2(x)\n",
        "        return x\n",
        "\n",
        "\n",
        "def test_TwoLayerFC():\n",
        "    \"\"\" A small unit test to exercise the TwoLayerFC model above. \"\"\"\n",
        "    input_size, hidden_size, num_classes = 50, 42, 10\n",
        "    x = tf.zeros((64, input_size))\n",
        "    model = TwoLayerFC(hidden_size, num_classes)\n",
        "    with tf.device(device):\n",
        "        scores = model(x)\n",
        "        print(scores.shape)\n",
        "\n",
        "test_TwoLayerFC()"
      ]
    },
    {
      "cell_type": "markdown",
      "metadata": {
        "id": "5J0OgPAtj38d"
      },
      "source": [
        "Реализуйте трехслойную CNN для вашей задачи классификации.\n",
        "\n",
        "Архитектура сети:\n",
        "    \n",
        "1. Сверточный слой (5 x 5 kernels, zero-padding = 'same')\n",
        "2. Функция активации ReLU\n",
        "3. Сверточный слой (3 x 3 kernels, zero-padding = 'same')\n",
        "4. Функция активации ReLU\n",
        "5. Полносвязный слой\n",
        "6. Функция активации Softmax\n",
        "\n",
        "https://www.tensorflow.org/versions/r2.0/api_docs/python/tf/keras/layers/Conv2D\n",
        "\n",
        "https://www.tensorflow.org/versions/r2.0/api_docs/python/tf/keras/layers/Dense"
      ]
    },
    {
      "cell_type": "code",
      "execution_count": 8,
      "metadata": {
        "id": "KPPucpUuj38d"
      },
      "outputs": [],
      "source": [
        "class ThreeLayerConvNet(tf.keras.Model):\n",
        "    def __init__(self, channel_1, channel_2, num_classes):\n",
        "        super(ThreeLayerConvNet, self).__init__()\n",
        "        ########################################################################\n",
        "        # Определение слоев для сверточной нейронной сети.\n",
        "        ########################################################################\n",
        "        self.conv1 = tf.keras.layers.Conv2D(channel_1, (5, 5), padding='same', activation='relu')\n",
        "        self.conv2 = tf.keras.layers.Conv2D(channel_2, (3, 3), padding='same', activation='relu')\n",
        "        self.flatten = tf.keras.layers.Flatten()\n",
        "        self.fc = tf.keras.layers.Dense(num_classes, activation='softmax')\n",
        "\n",
        "    def call(self, x, training=False):\n",
        "        ########################################################################\n",
        "        # Прямой проход для сверточной нейронной сети.\n",
        "        ########################################################################\n",
        "        x = self.conv1(x)\n",
        "        x = self.conv2(x)\n",
        "        x = self.flatten(x)\n",
        "        x = self.fc(x)\n",
        "        return x"
      ]
    },
    {
      "cell_type": "code",
      "execution_count": 9,
      "metadata": {
        "colab": {
          "base_uri": "https://localhost:8080/"
        },
        "id": "HuXX4tnbj38d",
        "outputId": "c5619156-3b61-485e-b2b8-94ade0f5804b"
      },
      "outputs": [
        {
          "name": "stdout",
          "output_type": "stream",
          "text": [
            "(64, 10)\n"
          ]
        }
      ],
      "source": [
        "def test_ThreeLayerConvNet():\n",
        "    channel_1, channel_2, num_classes = 12, 8, 10\n",
        "    model = ThreeLayerConvNet(channel_1, channel_2, num_classes)\n",
        "    with tf.device(device):\n",
        "        x = tf.zeros((64, 3, 32, 32))\n",
        "        scores = model(x)\n",
        "        print(scores.shape)\n",
        "\n",
        "test_ThreeLayerConvNet()"
      ]
    },
    {
      "cell_type": "markdown",
      "metadata": {
        "id": "cAIDar84j38d"
      },
      "source": [
        "Пример реализации процесса обучения:"
      ]
    },
    {
      "cell_type": "code",
      "execution_count": 66,
      "metadata": {
        "id": "t-5fYSTAj38d"
      },
      "outputs": [],
      "source": [
        "def train_part34(model_init_fn, optimizer_init_fn, num_epochs=1, is_training=False):\n",
        "    \"\"\"\n",
        "    Simple training loop for use with models defined using tf.keras. It trains\n",
        "    a model for one epoch on the CIFAR-10 training set and periodically checks\n",
        "    accuracy on the CIFAR-10 validation set.\n",
        "\n",
        "    Inputs:\n",
        "    - model_init_fn: A function that takes no parameters; when called it\n",
        "      constructs the model we want to train: model = model_init_fn()\n",
        "    - optimizer_init_fn: A function which takes no parameters; when called it\n",
        "      constructs the Optimizer object we will use to optimize the model:\n",
        "      optimizer = optimizer_init_fn()\n",
        "    - num_epochs: The number of epochs to train for\n",
        "\n",
        "    Returns: val_accuracy, a list containing val_accuracy.result()*100 after each iteration\n",
        "    \"\"\"\n",
        "    with tf.device(device):\n",
        "\n",
        "\n",
        "        loss_fn = tf.keras.losses.SparseCategoricalCrossentropy()\n",
        "\n",
        "        model = model_init_fn()\n",
        "        optimizer = optimizer_init_fn()\n",
        "\n",
        "        train_loss = tf.keras.metrics.Mean(name='train_loss')\n",
        "        train_accuracy = tf.keras.metrics.SparseCategoricalAccuracy(name='train_accuracy')\n",
        "\n",
        "        val_loss = tf.keras.metrics.Mean(name='val_loss')\n",
        "        val_accuracy = tf.keras.metrics.SparseCategoricalAccuracy(name='val_accuracy')\n",
        "\n",
        "        t = 0\n",
        "        val_accuracy_results = []  # Список для хранения val_accuracy после каждой итерации\n",
        "        for epoch in range(num_epochs):\n",
        "\n",
        "            # Reset the metrics - https://www.tensorflow.org/alpha/guide/migration_guide#new-style_metrics\n",
        "            \n",
        "\n",
        "            for x_np, y_np in train_dset:\n",
        "                with tf.GradientTape() as tape:\n",
        "\n",
        "                    # Use the model function to build the forward pass.\n",
        "                    scores = model(x_np, training=is_training)\n",
        "                    loss = loss_fn(y_np, scores)\n",
        "\n",
        "                    gradients = tape.gradient(loss, model.trainable_variables)\n",
        "                    optimizer.apply_gradients(zip(gradients, model.trainable_variables))\n",
        "\n",
        "                    # Update the metrics\n",
        "                    train_loss.update_state(loss)\n",
        "                    train_accuracy.update_state(y_np, scores)\n",
        "\n",
        "                    if t % print_every == 0:\n",
        "                        for test_x, test_y in val_dset:\n",
        "                            # During validation at end of epoch, training set to False\n",
        "                            prediction = model(test_x, training=False)\n",
        "                            t_loss = loss_fn(test_y, prediction)\n",
        "\n",
        "                            val_loss.update_state(t_loss)\n",
        "                            val_accuracy.update_state(test_y, prediction)\n",
        "\n",
        "                        template = 'Iteration {}, Epoch {}, Loss: {}, Accuracy: {}, Val Loss: {}, Val Accuracy: {}'\n",
        "                        print (template.format(t, epoch+1,\n",
        "                                             train_loss.result(),\n",
        "                                             train_accuracy.result()*100,\n",
        "                                             val_loss.result(),\n",
        "                                             val_accuracy.result()*100))\n",
        "                        val_accuracy_results.append(val_accuracy.result()*100)  # Добавляем val_accuracy в список\n",
        "                    t += 1\n",
        "    val_accuracy_results_numpy = [val.numpy() for val in val_accuracy_results]\n",
        "    return val_accuracy_results_numpy"
      ]
    },
    {
      "cell_type": "code",
      "execution_count": 67,
      "metadata": {
        "colab": {
          "base_uri": "https://localhost:8080/"
        },
        "id": "8n83kkFpj38d",
        "outputId": "dcd5e4bd-898c-4caf-aeb1-338a2d90c788"
      },
      "outputs": [
        {
          "name": "stdout",
          "output_type": "stream",
          "text": [
            "Iteration 0, Epoch 1, Loss: 3.0009889602661133, Accuracy: 10.9375, Val Loss: 2.950167417526245, Val Accuracy: 12.700000762939453\n",
            "Iteration 500, Epoch 1, Loss: 1.890458106994629, Accuracy: 36.71718978881836, Val Loss: 2.30127215385437, Val Accuracy: 28.400001525878906\n"
          ]
        },
        {
          "data": {
            "text/plain": [
              "[12.700001, 28.400002]"
            ]
          },
          "execution_count": 67,
          "metadata": {},
          "output_type": "execute_result"
        }
      ],
      "source": [
        "hidden_size, num_classes = 4000, 10\n",
        "learning_rate = 1e-2\n",
        "\n",
        "def model_init_fn():\n",
        "    return TwoLayerFC(hidden_size, num_classes)\n",
        "\n",
        "def optimizer_init_fn():\n",
        "    return tf.keras.optimizers.SGD(learning_rate=learning_rate)\n",
        "\n",
        "train_part34(model_init_fn, optimizer_init_fn)"
      ]
    },
    {
      "cell_type": "markdown",
      "metadata": {
        "id": "NtnPxBdnj38e"
      },
      "source": [
        "Обучите трехслойную CNN. В tf.keras.optimizers.SGD укажите Nesterov momentum = 0.9 .\n",
        "\n",
        "https://www.tensorflow.org/versions/r2.0/api_docs/python/tf/optimizers/SGD\n",
        "\n",
        "Значение accuracy на валидационной выборке после 1 эпохи обучения должно быть > 50% ."
      ]
    },
    {
      "cell_type": "code",
      "execution_count": 68,
      "metadata": {
        "colab": {
          "base_uri": "https://localhost:8080/"
        },
        "id": "O7am9pNwj38e",
        "outputId": "1973b8d7-0062-4e17-fe57-3e475b5c1cac"
      },
      "outputs": [
        {
          "name": "stdout",
          "output_type": "stream",
          "text": [
            "Iteration 0, Epoch 1, Loss: 2.3481502532958984, Accuracy: 9.375, Val Loss: 2.3635060787200928, Val Accuracy: 10.199999809265137\n",
            "Iteration 500, Epoch 1, Loss: 1.5160783529281616, Accuracy: 46.37287902832031, Val Loss: 1.8309452533721924, Val Accuracy: 31.650001525878906\n"
          ]
        },
        {
          "data": {
            "text/plain": [
              "[10.2, 31.650002]"
            ]
          },
          "execution_count": 68,
          "metadata": {},
          "output_type": "execute_result"
        }
      ],
      "source": [
        "learning_rate = 3e-3\n",
        "channel_1, channel_2, num_classes = 32, 16, 10\n",
        "\n",
        "def model_init_fn():\n",
        "    ############################################################################\n",
        "    # Создание трехслойной CNN.\n",
        "    ############################################################################\n",
        "    model = ThreeLayerConvNet(channel_1, channel_2, num_classes)\n",
        "    return model\n",
        "\n",
        "def optimizer_init_fn():\n",
        "    ############################################################################\n",
        "    # Инициализация оптимизатора SGD с Nesterov momentum.\n",
        "    ############################################################################\n",
        "    optimizer = tf.keras.optimizers.SGD(learning_rate=learning_rate, momentum=0.9, nesterov=True)\n",
        "    return optimizer\n",
        "\n",
        "train_part34(model_init_fn, optimizer_init_fn)"
      ]
    },
    {
      "cell_type": "markdown",
      "metadata": {
        "id": "NpNy1HE1j38e"
      },
      "source": [
        "# Использование Keras Sequential API для реализации последовательных моделей.\n",
        "\n",
        "Пример для полносвязной сети:"
      ]
    },
    {
      "cell_type": "code",
      "execution_count": 69,
      "metadata": {
        "colab": {
          "base_uri": "https://localhost:8080/"
        },
        "id": "N4DHesUsj38e",
        "outputId": "40ba7b8d-636d-46f3-9c1b-8d3ea6ce26a2"
      },
      "outputs": [
        {
          "name": "stderr",
          "output_type": "stream",
          "text": [
            "/home/egor/.local/lib/python3.10/site-packages/keras/src/layers/reshaping/flatten.py:37: UserWarning: Do not pass an `input_shape`/`input_dim` argument to a layer. When using Sequential models, prefer using an `Input(shape)` object as the first layer in the model instead.\n",
            "  super().__init__(**kwargs)\n"
          ]
        },
        {
          "name": "stdout",
          "output_type": "stream",
          "text": [
            "Iteration 0, Epoch 1, Loss: 3.211172103881836, Accuracy: 4.6875, Val Loss: 3.027390241622925, Val Accuracy: 13.300000190734863\n",
            "Iteration 500, Epoch 1, Loss: 1.8912330865859985, Accuracy: 37.181888580322266, Val Loss: 2.3420135974884033, Val Accuracy: 29.149999618530273\n"
          ]
        },
        {
          "data": {
            "text/plain": [
              "[13.3, 29.15]"
            ]
          },
          "execution_count": 69,
          "metadata": {},
          "output_type": "execute_result"
        }
      ],
      "source": [
        "learning_rate = 1e-2\n",
        "\n",
        "def model_init_fn():\n",
        "    input_shape = (32,32,3)\n",
        "    hidden_layer_size, num_classes = 4000, 10\n",
        "    initializer = tf.initializers.VarianceScaling(scale=2.0)\n",
        "    layers = [\n",
        "        tf.keras.layers.Flatten(input_shape=input_shape),\n",
        "        tf.keras.layers.Dense(hidden_layer_size, activation='relu',\n",
        "                              kernel_initializer=initializer),\n",
        "        tf.keras.layers.Dense(num_classes, activation='softmax',\n",
        "                              kernel_initializer=initializer),\n",
        "    ]\n",
        "    model = tf.keras.Sequential(layers)\n",
        "    return model\n",
        "\n",
        "def optimizer_init_fn():\n",
        "    return tf.keras.optimizers.SGD(learning_rate=learning_rate)\n",
        "\n",
        "train_part34(model_init_fn, optimizer_init_fn)"
      ]
    },
    {
      "cell_type": "markdown",
      "metadata": {
        "id": "0W5_0-T5j38e"
      },
      "source": [
        "Альтернативный менее гибкий способ обучения:"
      ]
    },
    {
      "cell_type": "code",
      "execution_count": 70,
      "metadata": {
        "colab": {
          "base_uri": "https://localhost:8080/"
        },
        "id": "TCx0bVT3j38e",
        "outputId": "d702658a-22ae-4efd-b164-458daaa76010"
      },
      "outputs": [
        {
          "name": "stdout",
          "output_type": "stream",
          "text": [
            "\u001b[1m766/766\u001b[0m \u001b[32m━━━━━━━━━━━━━━━━━━━━\u001b[0m\u001b[37m\u001b[0m \u001b[1m20s\u001b[0m 26ms/step - loss: 2.0218 - sparse_categorical_accuracy: 0.3375 - val_loss: 1.6283 - val_sparse_categorical_accuracy: 0.4390\n",
            "\u001b[1m313/313\u001b[0m \u001b[32m━━━━━━━━━━━━━━━━━━━━\u001b[0m\u001b[37m\u001b[0m \u001b[1m2s\u001b[0m 5ms/step - loss: 1.6334 - sparse_categorical_accuracy: 0.4403\n"
          ]
        },
        {
          "data": {
            "text/plain": [
              "[1.6528773307800293, 0.4316999912261963]"
            ]
          },
          "execution_count": 70,
          "metadata": {},
          "output_type": "execute_result"
        }
      ],
      "source": [
        "model = model_init_fn()\n",
        "model.compile(optimizer=tf.keras.optimizers.SGD(learning_rate=learning_rate),\n",
        "              loss='sparse_categorical_crossentropy',\n",
        "              metrics=[tf.keras.metrics.sparse_categorical_accuracy])\n",
        "model.fit(X_train, y_train, batch_size=64, epochs=1, validation_data=(X_val, y_val))\n",
        "model.evaluate(X_test, y_test)"
      ]
    },
    {
      "cell_type": "markdown",
      "metadata": {
        "id": "b1a14J4wj38e"
      },
      "source": [
        "Перепишите реализацию трехслойной CNN с помощью tf.keras.Sequential API . Обучите модель двумя способами."
      ]
    },
    {
      "cell_type": "code",
      "execution_count": 71,
      "metadata": {
        "colab": {
          "base_uri": "https://localhost:8080/"
        },
        "id": "Ba5FL5ucj38e",
        "outputId": "bbc3d120-2613-4321-fa22-34f4cf046c38"
      },
      "outputs": [
        {
          "name": "stderr",
          "output_type": "stream",
          "text": [
            "/home/egor/.local/lib/python3.10/site-packages/keras/src/layers/convolutional/base_conv.py:107: UserWarning: Do not pass an `input_shape`/`input_dim` argument to a layer. When using Sequential models, prefer using an `Input(shape)` object as the first layer in the model instead.\n",
            "  super().__init__(activity_regularizer=activity_regularizer, **kwargs)\n"
          ]
        },
        {
          "name": "stdout",
          "output_type": "stream",
          "text": [
            "Iteration 0, Epoch 1, Loss: 2.341671943664551, Accuracy: 12.5, Val Loss: 2.958101511001587, Val Accuracy: 7.90000057220459\n",
            "Iteration 500, Epoch 1, Loss: 1.4084227085113525, Accuracy: 49.97504806518555, Val Loss: 2.040982246398926, Val Accuracy: 33.95000076293945\n"
          ]
        },
        {
          "data": {
            "text/plain": [
              "[7.9000006, 33.95]"
            ]
          },
          "execution_count": 71,
          "metadata": {},
          "output_type": "execute_result"
        }
      ],
      "source": [
        "def model_init_fn():\n",
        "    model = tf.keras.Sequential([\n",
        "        # Первый сверточный слой\n",
        "        tf.keras.layers.Conv2D(32, (5, 5), padding='same', activation='relu', input_shape=(32, 32, 3)),\n",
        "        # Первый пулинг слой\n",
        "        tf.keras.layers.MaxPooling2D((2, 2), strides=(2, 2)),\n",
        "        # Второй сверточный слой\n",
        "        tf.keras.layers.Conv2D(64, (5, 5), padding='same', activation='relu'),\n",
        "        # Второй пулинг слой\n",
        "        tf.keras.layers.MaxPooling2D((2, 2), strides=(2, 2)),\n",
        "        # Разворачиваем данные перед подачей на полносвязный слой\n",
        "        tf.keras.layers.Flatten(),\n",
        "        # Полносвязный слой с relu активацией\n",
        "        tf.keras.layers.Dense(1024, activation='relu'),\n",
        "        # Выходной слой с softmax активацией\n",
        "        tf.keras.layers.Dense(10, activation='softmax')\n",
        "    ])\n",
        "    return model\n",
        "\n",
        "learning_rate = 5e-4\n",
        "\n",
        "def optimizer_init_fn():\n",
        "    optimizer = tf.keras.optimizers.Adam(learning_rate=learning_rate)\n",
        "    return optimizer\n",
        "\n",
        "train_part34(model_init_fn, optimizer_init_fn)"
      ]
    },
    {
      "cell_type": "code",
      "execution_count": 72,
      "metadata": {
        "colab": {
          "base_uri": "https://localhost:8080/"
        },
        "id": "1Eimr1r1j38f",
        "outputId": "3c194c69-8c22-4f78-e502-a9be9cde47d9"
      },
      "outputs": [
        {
          "name": "stdout",
          "output_type": "stream",
          "text": [
            "\u001b[1m766/766\u001b[0m \u001b[32m━━━━━━━━━━━━━━━━━━━━\u001b[0m\u001b[37m\u001b[0m \u001b[1m32s\u001b[0m 42ms/step - loss: 1.8695 - sparse_categorical_accuracy: 0.3297 - val_loss: 1.4067 - val_sparse_categorical_accuracy: 0.5110\n",
            "\u001b[1m313/313\u001b[0m \u001b[32m━━━━━━━━━━━━━━━━━━━━\u001b[0m\u001b[37m\u001b[0m \u001b[1m1s\u001b[0m 4ms/step - loss: 1.4274 - sparse_categorical_accuracy: 0.4936\n"
          ]
        },
        {
          "data": {
            "text/plain": [
              "[1.4353159666061401, 0.48989999294281006]"
            ]
          },
          "execution_count": 72,
          "metadata": {},
          "output_type": "execute_result"
        }
      ],
      "source": [
        "model = model_init_fn()\n",
        "model.compile(optimizer='sgd',\n",
        "              loss='sparse_categorical_crossentropy',\n",
        "              metrics=[tf.keras.metrics.sparse_categorical_accuracy])\n",
        "model.fit(X_train, y_train, batch_size=64, epochs=1, validation_data=(X_val, y_val))\n",
        "model.evaluate(X_test, y_test)"
      ]
    },
    {
      "cell_type": "markdown",
      "metadata": {
        "id": "Fhfwr7Q8j38f"
      },
      "source": [
        "# Использование Keras Functional API\n",
        "\n",
        "Для реализации более сложных архитектур сети с несколькими входами/выходами, повторным использованием слоев, \"остаточными\" связями (residual connections) необходимо явно указать входные и выходные тензоры.\n",
        "\n",
        "Ниже представлен пример для полносвязной сети."
      ]
    },
    {
      "cell_type": "code",
      "execution_count": 73,
      "metadata": {
        "colab": {
          "base_uri": "https://localhost:8080/"
        },
        "id": "g2qqkbUYj38f",
        "outputId": "070e85a8-1083-47fd-ffb3-0b8a37151aa6"
      },
      "outputs": [
        {
          "name": "stdout",
          "output_type": "stream",
          "text": [
            "(64, 10)\n"
          ]
        }
      ],
      "source": [
        "def two_layer_fc_functional(input_shape, hidden_size, num_classes):\n",
        "    initializer = tf.initializers.VarianceScaling(scale=2.0)\n",
        "    inputs = tf.keras.Input(shape=input_shape)\n",
        "    flattened_inputs = tf.keras.layers.Flatten()(inputs)\n",
        "    fc1_output = tf.keras.layers.Dense(hidden_size, activation='relu',\n",
        "                                 kernel_initializer=initializer)(flattened_inputs)\n",
        "    scores = tf.keras.layers.Dense(num_classes, activation='softmax',\n",
        "                             kernel_initializer=initializer)(fc1_output)\n",
        "\n",
        "    # Instantiate the model given inputs and outputs.\n",
        "    model = tf.keras.Model(inputs=inputs, outputs=scores)\n",
        "    return model\n",
        "\n",
        "def test_two_layer_fc_functional():\n",
        "    \"\"\" A small unit test to exercise the TwoLayerFC model above. \"\"\"\n",
        "    input_size, hidden_size, num_classes = 50, 42, 10\n",
        "    input_shape = (50,)\n",
        "\n",
        "    x = tf.zeros((64, input_size))\n",
        "    model = two_layer_fc_functional(input_shape, hidden_size, num_classes)\n",
        "\n",
        "    with tf.device(device):\n",
        "        scores = model(x)\n",
        "        print(scores.shape)\n",
        "\n",
        "test_two_layer_fc_functional()"
      ]
    },
    {
      "cell_type": "code",
      "execution_count": 74,
      "metadata": {
        "colab": {
          "base_uri": "https://localhost:8080/"
        },
        "id": "NS7bzBVZj38f",
        "outputId": "fb23e5ca-fcd4-4fb1-90d8-b22b98708f53"
      },
      "outputs": [
        {
          "name": "stdout",
          "output_type": "stream",
          "text": [
            "Iteration 0, Epoch 1, Loss: 3.5866847038269043, Accuracy: 9.375, Val Loss: 3.0143699645996094, Val Accuracy: 11.59999942779541\n",
            "Iteration 500, Epoch 1, Loss: 1.8855353593826294, Accuracy: 37.225547790527344, Val Loss: 2.3382351398468018, Val Accuracy: 27.000001907348633\n"
          ]
        },
        {
          "data": {
            "text/plain": [
              "[11.599999, 27.000002]"
            ]
          },
          "execution_count": 74,
          "metadata": {},
          "output_type": "execute_result"
        }
      ],
      "source": [
        "input_shape = (32, 32, 3)\n",
        "hidden_size, num_classes = 4000, 10\n",
        "learning_rate = 1e-2\n",
        "\n",
        "def model_init_fn():\n",
        "    return two_layer_fc_functional(input_shape, hidden_size, num_classes)\n",
        "\n",
        "def optimizer_init_fn():\n",
        "    return tf.keras.optimizers.SGD(learning_rate=learning_rate)\n",
        "\n",
        "train_part34(model_init_fn, optimizer_init_fn)"
      ]
    },
    {
      "cell_type": "markdown",
      "metadata": {
        "id": "Frk9Rneqj38f"
      },
      "source": []
    },
    {
      "cell_type": "markdown",
      "metadata": {
        "id": "Ev0G9EThj38f"
      },
      "source": [
        "Поэкспериментируйте с архитектурой сверточной сети. Для вашего набора данных вам необходимо получить как минимум 70% accuracy на валидационной выборке за 10 эпох обучения. Опишите все эксперименты и сделайте выводы (без выполнения данного пункта работы приниматься не будут).\n",
        "\n",
        "Эспериментируйте с архитектурой, гиперпараметрами, функцией потерь, регуляризацией, методом оптимизации.  \n",
        "\n",
        "https://www.tensorflow.org/versions/r2.0/api_docs/python/tf/keras/layers/BatchNormalization#methods https://www.tensorflow.org/versions/r2.0/api_docs/python/tf/keras/layers/Dropout#methods"
      ]
    },
    {
      "cell_type": "markdown",
      "metadata": {
        "id": "rJaHkOmBj38f"
      },
      "source": [
        "CustomConvNet_B_D имеет более глубокую архитектуру с четырьмя сверточными слоями, в то время как остальные две модели содержат только два сверточных слоя.\n",
        "CustomConvNet_B_D использует функцию активации ReLU, в то время как CustomConvNet_Sig применяет сигмоидальную функцию активации.\n",
        "CustomConvNet не использует сигмоидальную функцию активации и имеет слои макспулинга после сверточных слоев"
      ]
    },
    {
      "cell_type": "code",
      "execution_count": 78,
      "metadata": {
        "id": "98FUu78jj38f"
      },
      "outputs": [],
      "source": [
        "class CustomConvNet_B_D(tf.keras.Model):\n",
        "    def __init__(self):\n",
        "        super(CustomConvNet_B_D, self).__init__()\n",
        "        channel_1, channel_2, num_classes = 28, 14, 10\n",
        "        dp_rate = 0.2\n",
        "        initializer = tf.initializers.VarianceScaling(scale=2.0)\n",
        "        self.conv1 = tf.keras.layers.Conv2D(channel_1, [3,3], [1,1], padding='same',\n",
        "                                  kernel_initializer=initializer)\n",
        "        self.bn1 = tf.keras.layers.BatchNormalization()\n",
        "        self.relu1 = tf.keras.layers.ReLU()\n",
        "        self.dp1 = tf.keras.layers.Dropout(rate=dp_rate)\n",
        "        self.conv2 = tf.keras.layers.Conv2D(channel_2, [3,3], [1,1], padding='same',\n",
        "                                  kernel_initializer=initializer)\n",
        "        self.bn2 = tf.keras.layers.BatchNormalization()\n",
        "        self.relu2 = tf.keras.layers.ReLU()\n",
        "        self.dp2 = tf.keras.layers.Dropout(rate=dp_rate)\n",
        "        self.fl = tf.keras.layers.Flatten()\n",
        "        self.fc = tf.keras.layers.Dense(num_classes,\n",
        "                                  activation='softmax',\n",
        "                                  kernel_initializer=initializer)\n",
        "\n",
        "    def call(self, input_tensor, training=False):\n",
        "        x = input_tensor\n",
        "        x = self.conv1(x)\n",
        "        x = self.bn1(x)\n",
        "        x = self.relu1(x)\n",
        "        x = self.dp1(x)\n",
        "\n",
        "        x = self.conv2(x)\n",
        "        x = self.bn2(x)\n",
        "        x = self.relu2(x)\n",
        "        x = self.dp2(x)\n",
        "\n",
        "        x = self.fl(x)\n",
        "        x = self.fc(x)\n",
        "        return x"
      ]
    },
    {
      "cell_type": "code",
      "execution_count": 79,
      "metadata": {
        "id": "ZyBo_81mj38n"
      },
      "outputs": [],
      "source": [
        "print_every = 500\n",
        "num_epochs = 10\n",
        "# Задаем параметры эксперимента\n",
        "configs = [\n",
        "    {\n",
        "        \"model\": \"CustomConvNet_B_D\",\n",
        "        \"optimizer\": \"Adam\",\n",
        "        \"learning_rate\": 1e-3\n",
        "    },\n",
        "    {\n",
        "        \"model\": \"CustomConvNet_B_D\",\n",
        "        \"optimizer\": \"Adam\",\n",
        "        \"learning_rate\": 1e-4\n",
        "    },\n",
        "    {\n",
        "        \"model\": \"CustomConvNet_B_D\",\n",
        "        \"optimizer\": \"SGD\",\n",
        "        \"learning_rate\": 1e-3\n",
        "    }\n",
        "]\n",
        "\n",
        "def model_init_fn(model_name):\n",
        "    if model_name == \"CustomConvNet_B_D\":\n",
        "        return CustomConvNet_B_D()\n",
        "\n",
        "def optimizer_init_fn(optimizer_name, learning_rate):\n",
        "    if optimizer_name == \"Adam\":\n",
        "        return tf.keras.optimizers.Adam(learning_rate)\n",
        "    elif optimizer_name == \"SGD\":\n",
        "        return tf.keras.optimizers.SGD(learning_rate)\n",
        "\n",
        "def train_model(model_init_fn, optimizer_init_fn, num_epochs, print_every):\n",
        "    model = model_init_fn()\n",
        "    optimizer = optimizer_init_fn()\n",
        "    history = train_part34(model_init_fn, optimizer_init_fn, num_epochs=num_epochs, is_training=True)\n",
        "    print(history)\n",
        "    return history"
      ]
    },
    {
      "cell_type": "code",
      "execution_count": 80,
      "metadata": {
        "colab": {
          "base_uri": "https://localhost:8080/",
          "height": 1000
        },
        "id": "Tp5R2qaij38o",
        "outputId": "de2b5128-00df-4c65-9540-c64d0f1599a2"
      },
      "outputs": [
        {
          "name": "stdout",
          "output_type": "stream",
          "text": [
            "\n",
            "Experiment with model: CustomConvNet_B_D | optimizer: Adam | learning rate: 0.001\n",
            "Iteration 0, Epoch 1, Loss: 3.034841537475586, Accuracy: 4.6875, Val Loss: 5.753615379333496, Val Accuracy: 9.300000190734863\n",
            "Iteration 500, Epoch 1, Loss: 1.7629131078720093, Accuracy: 42.521209716796875, Val Loss: 3.5549895763397217, Val Accuracy: 31.549999237060547\n",
            "Iteration 1000, Epoch 2, Loss: 1.5390746593475342, Accuracy: 48.47126770019531, Val Loss: 2.801887273788452, Val Accuracy: 38.63333511352539\n",
            "Iteration 1500, Epoch 2, Loss: 1.4070847034454346, Accuracy: 52.27509307861328, Val Loss: 2.3914976119995117, Val Accuracy: 44.25\n",
            "Iteration 2000, Epoch 3, Loss: 1.318479299545288, Accuracy: 55.027496337890625, Val Loss: 2.1362245082855225, Val Accuracy: 47.97999954223633\n",
            "Iteration 2500, Epoch 4, Loss: 1.2541857957839966, Accuracy: 57.04035186767578, Val Loss: 1.9595584869384766, Val Accuracy: 50.233333587646484\n",
            "Iteration 3000, Epoch 4, Loss: 1.2033077478408813, Accuracy: 58.66181945800781, Val Loss: 1.8314303159713745, Val Accuracy: 51.9857177734375\n",
            "Iteration 3500, Epoch 5, Loss: 1.1610020399093628, Accuracy: 59.99606704711914, Val Loss: 1.7302783727645874, Val Accuracy: 53.625\n",
            "Iteration 4000, Epoch 6, Loss: 1.1248762607574463, Accuracy: 61.21847152709961, Val Loss: 1.655188798904419, Val Accuracy: 54.766666412353516\n",
            "Iteration 4500, Epoch 6, Loss: 1.093589186668396, Accuracy: 62.24474334716797, Val Loss: 1.5996187925338745, Val Accuracy: 55.62999725341797\n",
            "Iteration 5000, Epoch 7, Loss: 1.0657979249954224, Accuracy: 63.15141296386719, Val Loss: 1.5565224885940552, Val Accuracy: 56.28181838989258\n",
            "Iteration 5500, Epoch 8, Loss: 1.0403430461883545, Accuracy: 63.991634368896484, Val Loss: 1.5161739587783813, Val Accuracy: 56.983333587646484\n",
            "Iteration 6000, Epoch 8, Loss: 1.0179235935211182, Accuracy: 64.7295150756836, Val Loss: 1.4832537174224854, Val Accuracy: 57.4923095703125\n",
            "Iteration 6500, Epoch 9, Loss: 0.9974514842033386, Accuracy: 65.38550567626953, Val Loss: 1.4538815021514893, Val Accuracy: 58.0\n",
            "Iteration 7000, Epoch 10, Loss: 0.9783990979194641, Accuracy: 65.99560546875, Val Loss: 1.430398941040039, Val Accuracy: 58.42000198364258\n",
            "Iteration 7500, Epoch 10, Loss: 0.9608893990516663, Accuracy: 66.5906753540039, Val Loss: 1.411789894104004, Val Accuracy: 58.749996185302734\n",
            "[9.3, 31.55, 38.633335, 44.25, 47.98, 50.233334, 51.985718, 53.625, 54.766666, 55.629997, 56.28182, 56.983334, 57.49231, 58.0, 58.420002, 58.749996]\n",
            "\n",
            "Experiment with model: CustomConvNet_B_D | optimizer: Adam | learning rate: 0.0001\n",
            "Iteration 0, Epoch 1, Loss: 2.5045166015625, Accuracy: 18.75, Val Loss: 2.7824866771698, Val Accuracy: 9.600000381469727\n",
            "Iteration 500, Epoch 1, Loss: 1.8864586353302002, Accuracy: 34.184757232666016, Val Loss: 2.156146287918091, Val Accuracy: 27.5\n",
            "Iteration 1000, Epoch 2, Loss: 1.733220100402832, Accuracy: 39.26295852661133, Val Loss: 1.9071608781814575, Val Accuracy: 35.400001525878906\n",
            "Iteration 1500, Epoch 2, Loss: 1.6362799406051636, Accuracy: 42.518741607666016, Val Loss: 1.7652605772018433, Val Accuracy: 39.724998474121094\n",
            "Iteration 2000, Epoch 3, Loss: 1.5605369806289673, Accuracy: 45.067806243896484, Val Loss: 1.675612449645996, Val Accuracy: 42.599998474121094\n",
            "Iteration 2500, Epoch 4, Loss: 1.5074154138565063, Accuracy: 46.831092834472656, Val Loss: 1.6073662042617798, Val Accuracy: 44.75\n",
            "Iteration 3000, Epoch 4, Loss: 1.4637115001678467, Accuracy: 48.34941101074219, Val Loss: 1.5563299655914307, Val Accuracy: 46.31428527832031\n",
            "Iteration 3500, Epoch 5, Loss: 1.4243336915969849, Accuracy: 49.7481803894043, Val Loss: 1.5125188827514648, Val Accuracy: 47.83749771118164\n",
            "Iteration 4000, Epoch 6, Loss: 1.3920927047729492, Accuracy: 50.931453704833984, Val Loss: 1.4773430824279785, Val Accuracy: 49.11111068725586\n",
            "Iteration 4500, Epoch 6, Loss: 1.3630752563476562, Accuracy: 51.956974029541016, Val Loss: 1.447679877281189, Val Accuracy: 50.150001525878906\n",
            "Iteration 5000, Epoch 7, Loss: 1.3362067937850952, Accuracy: 52.910728454589844, Val Loss: 1.421017050743103, Val Accuracy: 51.163639068603516\n",
            "Iteration 5500, Epoch 8, Loss: 1.3123514652252197, Accuracy: 53.738887786865234, Val Loss: 1.399429202079773, Val Accuracy: 52.008331298828125\n",
            "Iteration 6000, Epoch 8, Loss: 1.290154218673706, Accuracy: 54.54290008544922, Val Loss: 1.3781205415725708, Val Accuracy: 52.83076858520508\n",
            "Iteration 6500, Epoch 9, Loss: 1.269171953201294, Accuracy: 55.304039001464844, Val Loss: 1.3598549365997314, Val Accuracy: 53.54999923706055\n",
            "Iteration 7000, Epoch 10, Loss: 1.2495522499084473, Accuracy: 56.010520935058594, Val Loss: 1.3425140380859375, Val Accuracy: 54.253334045410156\n",
            "Iteration 7500, Epoch 10, Loss: 1.2313692569732666, Accuracy: 56.67002868652344, Val Loss: 1.3276151418685913, Val Accuracy: 54.76874542236328\n",
            "[9.6, 27.5, 35.4, 39.725, 42.6, 44.75, 46.314285, 47.837498, 49.11111, 50.15, 51.16364, 52.00833, 52.83077, 53.55, 54.253334, 54.768745]\n",
            "\n",
            "Experiment with model: CustomConvNet_B_D | optimizer: SGD | learning rate: 0.001\n",
            "Iteration 0, Epoch 1, Loss: 2.7678165435791016, Accuracy: 23.4375, Val Loss: 3.0668323040008545, Val Accuracy: 8.299999237060547\n",
            "Iteration 500, Epoch 1, Loss: 2.0785257816314697, Accuracy: 26.92427635192871, Val Loss: 2.398062229156494, Val Accuracy: 23.75\n",
            "Iteration 1000, Epoch 2, Loss: 1.9444596767425537, Accuracy: 31.436601638793945, Val Loss: 2.1394031047821045, Val Accuracy: 30.133333206176758\n",
            "Iteration 1500, Epoch 2, Loss: 1.8596973419189453, Accuracy: 34.40857696533203, Val Loss: 1.9856761693954468, Val Accuracy: 34.525001525878906\n",
            "Iteration 2000, Epoch 3, Loss: 1.7934691905975342, Accuracy: 36.664947509765625, Val Loss: 1.8850876092910767, Val Accuracy: 37.2599983215332\n",
            "Iteration 2500, Epoch 4, Loss: 1.7479721307754517, Accuracy: 38.233787536621094, Val Loss: 1.809580683708191, Val Accuracy: 39.333335876464844\n",
            "Iteration 3000, Epoch 4, Loss: 1.7100096940994263, Accuracy: 39.533939361572266, Val Loss: 1.7524367570877075, Val Accuracy: 41.0\n",
            "Iteration 3500, Epoch 5, Loss: 1.6757458448410034, Accuracy: 40.748680114746094, Val Loss: 1.7094720602035522, Val Accuracy: 42.287498474121094\n",
            "Iteration 4000, Epoch 6, Loss: 1.648739218711853, Accuracy: 41.6911506652832, Val Loss: 1.6718287467956543, Val Accuracy: 43.38888931274414\n",
            "Iteration 4500, Epoch 6, Loss: 1.6248157024383545, Accuracy: 42.55376052856445, Val Loss: 1.6402866840362549, Val Accuracy: 44.380001068115234\n",
            "Iteration 5000, Epoch 7, Loss: 1.602506399154663, Accuracy: 43.318328857421875, Val Loss: 1.6134508848190308, Val Accuracy: 45.1363639831543\n",
            "Iteration 5500, Epoch 8, Loss: 1.5834730863571167, Accuracy: 44.00959396362305, Val Loss: 1.5901741981506348, Val Accuracy: 45.79999923706055\n",
            "Iteration 6000, Epoch 8, Loss: 1.5657927989959717, Accuracy: 44.63370132446289, Val Loss: 1.5692121982574463, Val Accuracy: 46.384613037109375\n",
            "Iteration 6500, Epoch 9, Loss: 1.5494142770767212, Accuracy: 45.22665786743164, Val Loss: 1.5500942468643188, Val Accuracy: 46.907142639160156\n",
            "Iteration 7000, Epoch 10, Loss: 1.534281849861145, Accuracy: 45.7800407409668, Val Loss: 1.5326451063156128, Val Accuracy: 47.37333297729492\n",
            "Iteration 7500, Epoch 10, Loss: 1.5198222398757935, Accuracy: 46.2761116027832, Val Loss: 1.5166574716567993, Val Accuracy: 47.82500076293945\n",
            "[8.299999, 23.75, 30.133333, 34.525, 37.26, 39.333336, 41.0, 42.2875, 43.38889, 44.38, 45.136364, 45.8, 46.384613, 46.907143, 47.373333, 47.825]\n"
          ]
        },
        {
          "data": {
            "image/png": "[encoded data removed]",
            "text/plain": [
              "<Figure size 1000x600 with 1 Axes>"
            ]
          },
          "metadata": {},
          "output_type": "display_data"
        }
      ],
      "source": [
        "\n",
        "colors = ['b', 'g', 'r', 'c', 'm', 'y', 'k', 'orange', 'purple']\n",
        "\n",
        "accuracy_history = {}\n",
        "\n",
        "for i, config in enumerate(configs):\n",
        "    print(\"\\nExperiment with model:\", config[\"model\"], \"| optimizer:\", config[\"optimizer\"], \"| learning rate:\", config[\"learning_rate\"])\n",
        "    history = train_model(lambda: model_init_fn(config[\"model\"]), lambda: optimizer_init_fn(config[\"optimizer\"], config[\"learning_rate\"]), num_epochs, print_every)\n",
        "    accuracy_history[config[\"model\"] + \"_\" + config[\"optimizer\"]] = history\n",
        "\n",
        "plt.figure(figsize=(10, 6))\n",
        "\n",
        "for i, config in enumerate(configs):\n",
        "    model_name = config[\"model\"]\n",
        "    optimizer_name = config[\"optimizer\"]\n",
        "    history = accuracy_history[model_name + \"_\" + optimizer_name]\n",
        "    plt.plot(range(len(history)), history, label=model_name + \"_\" + optimizer_name, color=colors[i])\n",
        "\n",
        "plt.title('Validation Accuracy vs. Iteration')\n",
        "plt.xlabel('Iteration')\n",
        "plt.ylabel('Accuracy')\n",
        "plt.legend(loc='lower right')\n",
        "plt.grid(True)\n",
        "plt.show()"
      ]
    },
    {
      "cell_type": "markdown",
      "metadata": {
        "id": "JdgUDzp1j38o"
      },
      "source": [
        "Опишите все эксперименты, результаты. Сделайте выводы."
      ]
    },
    {
      "cell_type": "markdown",
      "metadata": {
        "id": "71axc1tTbufG"
      },
      "source": [
        "Модель CustomConvNet_B_D с оптимизатором Adam и learning rate 0.001:    \n",
        "Начальная точность на валидационном наборе составила около 9.3%.    \n",
        "Постепенно точность увеличивалась и достигла около 58.75% после 10 эпох обучения.   \n",
        "При этом значение функции потерь уменьшалось с 3.03 до 0.98.    \n",
        "\n",
        "Модель CustomConvNet_B_D с оптимизатором Adam и learning rate 0.0001:   \n",
        "Начальная точность на валидационном наборе составила около 9.6%.    \n",
        "Точность постепенно увеличивалась и достигла около 54.77% после 10 эпох обучения.   \n",
        "Значение функции потерь уменьшалось с 2.5 до 1.23.  \n",
        "\n",
        "Модель CustomConvNet_B_D с оптимизатором SGD и learning rate 0.001:     \n",
        "Начальная точность на валидационном наборе составила около 8.3%.    \n",
        "Точность увеличивалась и достигла около 47.83% после 10 эпох обучения.  \n",
        "Значение функции потерь уменьшалось с 2.76 до 1.52.     \n",
        "Исходя из результатов, можно сделать вывод, что модель с оптимизатором Adam и learning rate 0.001 показала лучшие результаты по сравнению с другими комбинациями параметров."
      ]
    }
  ],
  "metadata": {
    "colab": {
      "provenance": []
    },
    "kernelspec": {
      "display_name": "Python 3 (ipykernel)",
      "language": "python",
      "name": "python3"
    },
    "language_info": {
      "codemirror_mode": {
        "name": "ipython",
        "version": 3
      },
      "file_extension": ".py",
      "mimetype": "text/x-python",
      "name": "python",
      "nbconvert_exporter": "python",
      "pygments_lexer": "ipython3",
      "version": "3.10.12"
    }
  },
  "nbformat": 4,
  "nbformat_minor": 0
}
